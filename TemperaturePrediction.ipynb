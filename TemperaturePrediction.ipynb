{
 "cells": [
  {
   "cell_type": "code",
   "execution_count": 108,
   "id": "46a3a708",
   "metadata": {},
   "outputs": [],
   "source": [
    "import pandas as pd\n",
    "import numpy as np\n",
    "import matplotlib.pyplot as plt\n",
    "import seaborn as sns\n",
    "from sklearn.model_selection import train_test_split, cross_val_score\n",
    "from sklearn.linear_model import LinearRegression\n",
    "from sklearn.metrics import accuracy_score, mean_squared_error"
   ]
  },
  {
   "cell_type": "code",
   "execution_count": 109,
   "id": "391df41c",
   "metadata": {},
   "outputs": [
    {
     "name": "stdout",
     "output_type": "stream",
     "text": [
      "     YEAR ANNUAL JAN-FEB MAR-MAY JUN-SEP OCT-DEC\n",
      "0  1901.0  25.42   20.11   27.64   28.16    23.1\n",
      "1  1902.0  25.42   20.88   27.96   27.98   22.51\n",
      "2  1903.0  25.01   19.99   27.02      28   22.33\n",
      "3  1904.0  24.93   19.76   27.23   27.57   22.56\n",
      "4  1905.0  24.84   18.36   26.38    28.2   23.13\n"
     ]
    }
   ],
   "source": [
    "file_path = \"dataset/TEMP_ANNUAL_SEASONAL_MEAN.csv\"\n",
    "\n",
    "df = pd.read_csv(file_path)\n",
    "\n",
    "print(df.head())"
   ]
  },
  {
   "cell_type": "code",
   "execution_count": 110,
   "id": "9f2e95fd",
   "metadata": {},
   "outputs": [
    {
     "name": "stdout",
     "output_type": "stream",
     "text": [
      "<class 'pandas.core.frame.DataFrame'>\n",
      "RangeIndex: 123 entries, 0 to 122\n",
      "Data columns (total 6 columns):\n",
      " #   Column   Non-Null Count  Dtype  \n",
      "---  ------   --------------  -----  \n",
      " 0   YEAR     121 non-null    float64\n",
      " 1   ANNUAL   122 non-null    object \n",
      " 2   JAN-FEB  122 non-null    object \n",
      " 3   MAR-MAY  122 non-null    object \n",
      " 4   JUN-SEP  122 non-null    object \n",
      " 5   OCT-DEC  122 non-null    object \n",
      "dtypes: float64(1), object(5)\n",
      "memory usage: 5.9+ KB\n",
      "None\n"
     ]
    }
   ],
   "source": [
    "#INFO\n",
    "print(df.info())"
   ]
  },
  {
   "cell_type": "code",
   "execution_count": 111,
   "id": "fea7fda8",
   "metadata": {},
   "outputs": [
    {
     "name": "stdout",
     "output_type": "stream",
     "text": [
      "              YEAR\n",
      "count   121.000000\n",
      "mean   1961.000000\n",
      "std      35.073732\n",
      "min    1901.000000\n",
      "25%    1931.000000\n",
      "50%    1961.000000\n",
      "75%    1991.000000\n",
      "max    2021.000000\n"
     ]
    }
   ],
   "source": [
    "#DESCRIPTION\n",
    "print(df.describe())"
   ]
  },
  {
   "cell_type": "code",
   "execution_count": 112,
   "id": "37fabf5f",
   "metadata": {},
   "outputs": [
    {
     "name": "stdout",
     "output_type": "stream",
     "text": [
      "YEAR       True\n",
      "ANNUAL     True\n",
      "JAN-FEB    True\n",
      "MAR-MAY    True\n",
      "JUN-SEP    True\n",
      "OCT-DEC    True\n",
      "dtype: bool\n"
     ]
    }
   ],
   "source": [
    "print(df.isna().any())"
   ]
  },
  {
   "cell_type": "code",
   "execution_count": 113,
   "id": "1ae6a91b",
   "metadata": {},
   "outputs": [],
   "source": [
    "df = df.dropna()"
   ]
  },
  {
   "cell_type": "code",
   "execution_count": 114,
   "id": "a662343d",
   "metadata": {},
   "outputs": [
    {
     "name": "stdout",
     "output_type": "stream",
     "text": [
      "YEAR       False\n",
      "ANNUAL     False\n",
      "JAN-FEB    False\n",
      "MAR-MAY    False\n",
      "JUN-SEP    False\n",
      "OCT-DEC    False\n",
      "dtype: bool\n"
     ]
    }
   ],
   "source": [
    "print(df.isna().any())"
   ]
  },
  {
   "cell_type": "code",
   "execution_count": 115,
   "id": "94fd9b67",
   "metadata": {},
   "outputs": [
    {
     "name": "stdout",
     "output_type": "stream",
     "text": [
      "(121, 4) (121,)\n"
     ]
    }
   ],
   "source": [
    "X = df.drop(columns=['ANNUAL', 'YEAR'])\n",
    "y = df['ANNUAL']\n",
    "\n",
    "print(X.shape, y.shape)\n"
   ]
  },
  {
   "cell_type": "code",
   "execution_count": 116,
   "id": "a00eb9e1",
   "metadata": {},
   "outputs": [
    {
     "name": "stdout",
     "output_type": "stream",
     "text": [
      "[0.99964387 0.99974763 0.99980858 0.99957379 0.99964638]\n"
     ]
    }
   ],
   "source": [
    "#USING CROSS VALIDATION\n",
    "\n",
    "lr = LinearRegression()\n",
    "lr.fit(X, y)\n",
    "lr_val = cross_val_score(lr, X, y, cv=5)\n",
    "print(lr_val)\n"
   ]
  },
  {
   "cell_type": "code",
   "execution_count": 118,
   "id": "a6e94943",
   "metadata": {},
   "outputs": [
    {
     "name": "stdout",
     "output_type": "stream",
     "text": [
      "1.1531091207278751e-05\n",
      "44     24.69\n",
      "47     25.29\n",
      "4      24.84\n",
      "55     24.95\n",
      "26     25.01\n",
      "64     25.23\n",
      "73     25.08\n",
      "10     25.08\n",
      "40     25.61\n",
      "108    26.05\n",
      "Name: ANNUAL, dtype: object\n",
      "[24.68925292 25.29070045 24.83666126 24.94555184 25.00699628 25.23223289\n",
      " 25.07886196 25.0850512  25.60437602 26.0480495 ]\n",
      "44     24.69\n",
      "47     25.29\n",
      "4      24.84\n",
      "55     24.95\n",
      "26     25.01\n",
      "64     25.23\n",
      "73     25.08\n",
      "10     25.08\n",
      "40     25.61\n",
      "108    26.05\n",
      "18     25.15\n",
      "62     25.24\n",
      "11      25.2\n",
      "36        25\n",
      "90     25.39\n",
      "118    25.86\n",
      "110    25.62\n",
      "0      25.42\n",
      "89     25.26\n",
      "104    25.58\n",
      "Name: ANNUAL, dtype: object\n",
      "[25.15699277 25.24470651 25.20121206 25.0033758  25.39275915 25.85712814\n",
      " 25.6178276  25.42268445 25.26476915 25.58359786]\n"
     ]
    }
   ],
   "source": [
    "#USING TRAIN TEST SPLIT\n",
    "\n",
    "X_train, X_test, y_train, y_test = train_test_split(X, y, test_size=0.2, random_state=42)\n",
    "lr = LinearRegression()\n",
    "\n",
    "lr.fit(X_train, y_train)\n",
    "\n",
    "y_pred = lr.predict(X_test)\n",
    "mse = mean_squared_error(y_true=y_test, y_pred=y_pred)\n",
    "print(mse)\n",
    "print(y_test[0:10])\n",
    "print(y_pred[0:10])\n",
    "print(y_test[0:20])\n",
    "print(y_pred[10:20])"
   ]
  }
 ],
 "metadata": {
  "kernelspec": {
   "display_name": "venv",
   "language": "python",
   "name": "python3"
  },
  "language_info": {
   "codemirror_mode": {
    "name": "ipython",
    "version": 3
   },
   "file_extension": ".py",
   "mimetype": "text/x-python",
   "name": "python",
   "nbconvert_exporter": "python",
   "pygments_lexer": "ipython3",
   "version": "3.10.8"
  }
 },
 "nbformat": 4,
 "nbformat_minor": 5
}
